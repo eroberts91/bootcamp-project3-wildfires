{
 "cells": [
  {
   "cell_type": "code",
   "execution_count": 1,
   "id": "dd53073d-0c92-4fd7-a4aa-2955b9eb0bc5",
   "metadata": {
    "tags": []
   },
   "outputs": [],
   "source": [
    "#dependencies\n",
    "import pandas as pd"
   ]
  },
  {
   "cell_type": "code",
   "execution_count": null,
   "id": "dc9ca8fe-fd7b-460a-821b-fdfbc098fce8",
   "metadata": {},
   "outputs": [],
   "source": [
    "#import csv file into pandas for further cleaning\n",
    "large_fires = pd.read_csv('../data/large_fires.csv')"
   ]
  }
 ],
 "metadata": {
  "kernelspec": {
   "display_name": "Python 3 (ipykernel)",
   "language": "python",
   "name": "python3"
  },
  "language_info": {
   "codemirror_mode": {
    "name": "ipython",
    "version": 3
   },
   "file_extension": ".py",
   "mimetype": "text/x-python",
   "name": "python",
   "nbconvert_exporter": "python",
   "pygments_lexer": "ipython3",
   "version": "3.10.13"
  }
 },
 "nbformat": 4,
 "nbformat_minor": 5
}
