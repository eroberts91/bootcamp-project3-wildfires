{
 "cells": [
  {
   "cell_type": "code",
   "execution_count": 1,
   "id": "9ef58d73-2bb2-458c-9152-5b90b2bcea65",
   "metadata": {
    "tags": []
   },
   "outputs": [],
   "source": [
    "#dependencies\n",
    "import dash\n",
    "import dash as dcc\n",
    "import dash as html\n",
    "import plotly.graph_objects as go\n",
    "import pandas as pd\n",
    "import dash_bootstrap_components as dbc"
   ]
  },
  {
   "cell_type": "code",
   "execution_count": 4,
   "id": "2428c868-3427-42a4-90c6-e2abdef03516",
   "metadata": {
    "tags": []
   },
   "outputs": [
    {
     "data": {
      "text/html": [
       "\n",
       "        <iframe\n",
       "            width=\"100%\"\n",
       "            height=\"650\"\n",
       "            src=\"http://127.0.0.1:8050/\"\n",
       "            frameborder=\"0\"\n",
       "            allowfullscreen\n",
       "            \n",
       "        ></iframe>\n",
       "        "
      ],
      "text/plain": [
       "<IPython.lib.display.IFrame at 0x135486c80>"
      ]
     },
     "metadata": {},
     "output_type": "display_data"
    }
   ],
   "source": [
    "app = dash.Dash(\n",
    "    external_stylesheets=[dbc.themes.BOOTSTRAP]\n",
    ")\n",
    "\n",
    "app.layout = dbc.Alert(\n",
    "    \"Hello, Bootstrap!\", className=\"m-5\"\n",
    ")\n",
    "\n",
    "if __name__ == \"__main__\":\n",
    "    app.run_server()"
   ]
  },
  {
   "cell_type": "code",
   "execution_count": 2,
   "id": "4d97b8f7-daa3-4e0d-a186-e6611b78a1f0",
   "metadata": {
    "tags": []
   },
   "outputs": [],
   "source": [
    "import dash_bootstrap_components as dbc\n",
    "\n",
    "items = [\n",
    "    dbc.DropdownMenuItem(\"Action\"),\n",
    "    dbc.DropdownMenuItem(\"Another action\"),\n",
    "    dbc.DropdownMenuItem(\"Something else here\"),\n",
    "    dbc.DropdownMenuItem(divider=True),\n",
    "    dbc.DropdownMenuItem(\"Something else here after the divider\"),\n",
    "]\n",
    "\n",
    "dropdown = dbc.Row(\n",
    "    [\n",
    "        dbc.Col(\n",
    "            dbc.DropdownMenu(\n",
    "                label=\"Left-aligned menu (default)\",\n",
    "                children=items,\n",
    "                align_end=False,\n",
    "            )\n",
    "        ),\n",
    "        dbc.Col(\n",
    "            dbc.DropdownMenu(\n",
    "                label=\"Right-aligned menu\", children=items, align_end=True\n",
    "            )\n",
    "        ),\n",
    "    ]\n",
    ")"
   ]
  },
  {
   "cell_type": "code",
   "execution_count": null,
   "id": "e0d8d560-bc60-4aa6-a6ea-ecec18bd135e",
   "metadata": {},
   "outputs": [],
   "source": []
  }
 ],
 "metadata": {
  "kernelspec": {
   "display_name": "Python 3 (ipykernel)",
   "language": "python",
   "name": "python3"
  },
  "language_info": {
   "codemirror_mode": {
    "name": "ipython",
    "version": 3
   },
   "file_extension": ".py",
   "mimetype": "text/x-python",
   "name": "python",
   "nbconvert_exporter": "python",
   "pygments_lexer": "ipython3",
   "version": "3.10.13"
  }
 },
 "nbformat": 4,
 "nbformat_minor": 5
}
