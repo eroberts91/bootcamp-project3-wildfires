{
 "cells": [
  {
   "cell_type": "code",
   "execution_count": 8,
   "id": "dd53073d-0c92-4fd7-a4aa-2955b9eb0bc5",
   "metadata": {
    "tags": []
   },
   "outputs": [],
   "source": [
    "#dependencies\n",
    "import pandas as pd"
   ]
  },
  {
   "cell_type": "code",
   "execution_count": 9,
   "id": "dc9ca8fe-fd7b-460a-821b-fdfbc098fce8",
   "metadata": {
    "tags": []
   },
   "outputs": [
    {
     "name": "stderr",
     "output_type": "stream",
     "text": [
      "/var/folders/mc/lmqnjm2578xd0pdfn2jpsd9w0000gn/T/ipykernel_63340/2881968306.py:2: DtypeWarning: Columns (1,2,4,5,7,8) have mixed types. Specify dtype option on import or set low_memory=False.\n",
      "  large_fires_df = pd.read_csv('../data/large_fires.csv')\n"
     ]
    }
   ],
   "source": [
    "#import csv file into pandas for further cleaning\n",
    "large_fires_df = pd.read_csv('../data/large_fires.csv')"
   ]
  },
  {
   "cell_type": "code",
   "execution_count": 10,
   "id": "6d05eaa9-c3f2-405b-b71a-695949ad585a",
   "metadata": {
    "tags": []
   },
   "outputs": [],
   "source": [
    "#drop all rows with incomplete data\n",
    "columncleanedfires_df = large_fires_df.dropna(subset=['FIRE_SIZE_CLASS','STATE'])\n",
    "\n",
    "#drop OBJECTID and Shape columns\n",
    "finalfires_df = columncleanedfires_df.drop(columns=['OBJECTID', 'Shape'])\n",
    "\n",
    "#reset index and drop old index\n",
    "index_fires = finalfires_df.reset_index()\n",
    "finalfires_df = index_fires.drop(columns=['index'])"
   ]
  },
  {
   "cell_type": "code",
   "execution_count": 14,
   "id": "686dc04f-453d-4be0-bd32-eb9027c10b9a",
   "metadata": {
    "tags": []
   },
   "outputs": [],
   "source": [
    "#change year column from float to int\n",
    "finalfires_df['FIRE_YEAR'] = finalfires_df['FIRE_YEAR'].astype(int)\n",
    "\n",
    "#sort by year\n",
    "finalfires_df = finalfires_df.sort_values(by=['FIRE_YEAR'])"
   ]
  },
  {
   "cell_type": "code",
   "execution_count": 15,
   "id": "c8fc465c-8454-4e69-9171-8e2291572b81",
   "metadata": {
    "tags": []
   },
   "outputs": [
    {
     "data": {
      "text/html": [
       "<div>\n",
       "<style scoped>\n",
       "    .dataframe tbody tr th:only-of-type {\n",
       "        vertical-align: middle;\n",
       "    }\n",
       "\n",
       "    .dataframe tbody tr th {\n",
       "        vertical-align: top;\n",
       "    }\n",
       "\n",
       "    .dataframe thead th {\n",
       "        text-align: right;\n",
       "    }\n",
       "</style>\n",
       "<table border=\"1\" class=\"dataframe\">\n",
       "  <thead>\n",
       "    <tr style=\"text-align: right;\">\n",
       "      <th></th>\n",
       "      <th>FIRE_NAME</th>\n",
       "      <th>FIRE_YEAR</th>\n",
       "      <th>FIRE_SIZE</th>\n",
       "      <th>FIRE_SIZE_CLASS</th>\n",
       "      <th>LATITUDE</th>\n",
       "      <th>LONGITUDE</th>\n",
       "      <th>STATE</th>\n",
       "    </tr>\n",
       "  </thead>\n",
       "  <tbody>\n",
       "    <tr>\n",
       "      <th>27121</th>\n",
       "      <td>NaN</td>\n",
       "      <td>1992</td>\n",
       "      <td>160.0</td>\n",
       "      <td>D</td>\n",
       "      <td>36.357102</td>\n",
       "      <td>-94.96170028</td>\n",
       "      <td>OK</td>\n",
       "    </tr>\n",
       "    <tr>\n",
       "      <th>6088</th>\n",
       "      <td>203029</td>\n",
       "      <td>1992</td>\n",
       "      <td>170.0</td>\n",
       "      <td>D</td>\n",
       "      <td>57.065900</td>\n",
       "      <td>-154.0857</td>\n",
       "      <td>AK</td>\n",
       "    </tr>\n",
       "    <tr>\n",
       "      <th>27741</th>\n",
       "      <td>NaN</td>\n",
       "      <td>1992</td>\n",
       "      <td>100.0</td>\n",
       "      <td>D</td>\n",
       "      <td>38.221945</td>\n",
       "      <td>-93.05287054</td>\n",
       "      <td>MO</td>\n",
       "    </tr>\n",
       "    <tr>\n",
       "      <th>6071</th>\n",
       "      <td>FORT</td>\n",
       "      <td>1992</td>\n",
       "      <td>125.0</td>\n",
       "      <td>D</td>\n",
       "      <td>35.033300</td>\n",
       "      <td>-114.6175</td>\n",
       "      <td>AZ</td>\n",
       "    </tr>\n",
       "    <tr>\n",
       "      <th>26798</th>\n",
       "      <td>NaN</td>\n",
       "      <td>1992</td>\n",
       "      <td>100.0</td>\n",
       "      <td>D</td>\n",
       "      <td>35.698700</td>\n",
       "      <td>-114.24649825</td>\n",
       "      <td>AZ</td>\n",
       "    </tr>\n",
       "  </tbody>\n",
       "</table>\n",
       "</div>"
      ],
      "text/plain": [
       "      FIRE_NAME  FIRE_YEAR FIRE_SIZE FIRE_SIZE_CLASS   LATITUDE  \\\n",
       "27121       NaN       1992     160.0               D  36.357102   \n",
       "6088     203029       1992     170.0               D  57.065900   \n",
       "27741       NaN       1992     100.0               D  38.221945   \n",
       "6071       FORT       1992     125.0               D  35.033300   \n",
       "26798       NaN       1992     100.0               D  35.698700   \n",
       "\n",
       "           LONGITUDE STATE  \n",
       "27121   -94.96170028    OK  \n",
       "6088       -154.0857    AK  \n",
       "27741   -93.05287054    MO  \n",
       "6071       -114.6175    AZ  \n",
       "26798  -114.24649825    AZ  "
      ]
     },
     "execution_count": 15,
     "metadata": {},
     "output_type": "execute_result"
    }
   ],
   "source": [
    "finalfires_df.head()"
   ]
  },
  {
   "cell_type": "code",
   "execution_count": 16,
   "id": "7296aeb4-d040-473d-ae94-71d0a01974e5",
   "metadata": {},
   "outputs": [],
   "source": [
    "finalfires_df.to_csv('../data/cleaned_largefires.csv', index=False)"
   ]
  },
  {
   "cell_type": "code",
   "execution_count": null,
   "id": "e7002b02-1bf7-42ee-9542-d5f1d12160b0",
   "metadata": {},
   "outputs": [],
   "source": []
  }
 ],
 "metadata": {
  "kernelspec": {
   "display_name": "Python 3 (ipykernel)",
   "language": "python",
   "name": "python3"
  },
  "language_info": {
   "codemirror_mode": {
    "name": "ipython",
    "version": 3
   },
   "file_extension": ".py",
   "mimetype": "text/x-python",
   "name": "python",
   "nbconvert_exporter": "python",
   "pygments_lexer": "ipython3",
   "version": "3.10.13"
  }
 },
 "nbformat": 4,
 "nbformat_minor": 5
}
