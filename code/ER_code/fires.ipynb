{
 "cells": [
  {
   "cell_type": "code",
   "execution_count": 2,
   "id": "8789a552-599b-4542-ad94-083ca4e7293d",
   "metadata": {},
   "outputs": [],
   "source": [
    "#dependencies\n",
    "import dash\n",
    "import dash as dcc\n",
    "from dash import html\n",
    "import plotly.graph_objects as go\n",
    "import pandas as pd\n",
    "import plotly.express as px\n"
   ]
  },
  {
   "cell_type": "code",
   "execution_count": 3,
   "id": "5c5f5ad2-5473-4456-8c9d-afb46d3bb5e3",
   "metadata": {
    "tags": []
   },
   "outputs": [],
   "source": [
    "#import cleaned csv file from data folder\n",
    "large_fires_df = pd.read_csv('data/cleaned_largefires.csv')"
   ]
  },
  {
   "cell_type": "code",
   "execution_count": 4,
   "id": "7b7c182f-1e53-4245-ad68-6441370b9c28",
   "metadata": {
    "tags": []
   },
   "outputs": [
    {
     "data": {
      "text/html": [
       "<div>\n",
       "<style scoped>\n",
       "    .dataframe tbody tr th:only-of-type {\n",
       "        vertical-align: middle;\n",
       "    }\n",
       "\n",
       "    .dataframe tbody tr th {\n",
       "        vertical-align: top;\n",
       "    }\n",
       "\n",
       "    .dataframe thead th {\n",
       "        text-align: right;\n",
       "    }\n",
       "</style>\n",
       "<table border=\"1\" class=\"dataframe\">\n",
       "  <thead>\n",
       "    <tr style=\"text-align: right;\">\n",
       "      <th></th>\n",
       "      <th>FIRE_NAME</th>\n",
       "      <th>FIRE_YEAR</th>\n",
       "      <th>FIRE_SIZE</th>\n",
       "      <th>FIRE_SIZE_CLASS</th>\n",
       "      <th>LATITUDE</th>\n",
       "      <th>LONGITUDE</th>\n",
       "      <th>STATE</th>\n",
       "    </tr>\n",
       "  </thead>\n",
       "  <tbody>\n",
       "    <tr>\n",
       "      <th>0</th>\n",
       "      <td>NaN</td>\n",
       "      <td>1992</td>\n",
       "      <td>160.0</td>\n",
       "      <td>D</td>\n",
       "      <td>36.357102</td>\n",
       "      <td>-94.961700</td>\n",
       "      <td>OK</td>\n",
       "    </tr>\n",
       "    <tr>\n",
       "      <th>1</th>\n",
       "      <td>203029</td>\n",
       "      <td>1992</td>\n",
       "      <td>170.0</td>\n",
       "      <td>D</td>\n",
       "      <td>57.065900</td>\n",
       "      <td>-154.085700</td>\n",
       "      <td>AK</td>\n",
       "    </tr>\n",
       "    <tr>\n",
       "      <th>2</th>\n",
       "      <td>NaN</td>\n",
       "      <td>1992</td>\n",
       "      <td>100.0</td>\n",
       "      <td>D</td>\n",
       "      <td>38.221945</td>\n",
       "      <td>-93.052871</td>\n",
       "      <td>MO</td>\n",
       "    </tr>\n",
       "    <tr>\n",
       "      <th>3</th>\n",
       "      <td>FORT</td>\n",
       "      <td>1992</td>\n",
       "      <td>125.0</td>\n",
       "      <td>D</td>\n",
       "      <td>35.033300</td>\n",
       "      <td>-114.617500</td>\n",
       "      <td>AZ</td>\n",
       "    </tr>\n",
       "    <tr>\n",
       "      <th>4</th>\n",
       "      <td>NaN</td>\n",
       "      <td>1992</td>\n",
       "      <td>100.0</td>\n",
       "      <td>D</td>\n",
       "      <td>35.698700</td>\n",
       "      <td>-114.246498</td>\n",
       "      <td>AZ</td>\n",
       "    </tr>\n",
       "  </tbody>\n",
       "</table>\n",
       "</div>"
      ],
      "text/plain": [
       "  FIRE_NAME  FIRE_YEAR  FIRE_SIZE FIRE_SIZE_CLASS   LATITUDE   LONGITUDE STATE\n",
       "0       NaN       1992      160.0               D  36.357102  -94.961700    OK\n",
       "1    203029       1992      170.0               D  57.065900 -154.085700    AK\n",
       "2       NaN       1992      100.0               D  38.221945  -93.052871    MO\n",
       "3      FORT       1992      125.0               D  35.033300 -114.617500    AZ\n",
       "4       NaN       1992      100.0               D  35.698700 -114.246498    AZ"
      ]
     },
     "execution_count": 4,
     "metadata": {},
     "output_type": "execute_result"
    }
   ],
   "source": [
    "large_fires_df.head()"
   ]
  },
  {
   "cell_type": "code",
   "execution_count": 5,
   "id": "309d4205-c7cd-49b9-bb77-8cd3f3362f74",
   "metadata": {
    "tags": []
   },
   "outputs": [],
   "source": [
    "#create list of unique years for building drop down menu\n",
    "years_list = large_fires_df.FIRE_YEAR.unique().tolist()"
   ]
  },
  {
   "cell_type": "code",
   "execution_count": 6,
   "id": "624bf253-f4a0-402f-bae1-0131ef276676",
   "metadata": {
    "tags": []
   },
   "outputs": [
    {
     "name": "stdout",
     "output_type": "stream",
     "text": [
      "[1992, 1993, 1994, 1995, 1996, 1997, 1998, 1999, 2000, 2001, 2002, 2003, 2004, 2005, 2006, 2007, 2008, 2009, 2010, 2011, 2012, 2013, 2014, 2015, 2016, 2017, 2018, 2019, 2020]\n"
     ]
    }
   ],
   "source": [
    "print(years_list)"
   ]
  },
  {
   "cell_type": "code",
   "execution_count": 7,
   "id": "105987f6-ed74-451b-bd71-9d0e993d2482",
   "metadata": {
    "tags": []
   },
   "outputs": [],
   "source": [
    "#set year for testing for data\n",
    "current_year = 1999"
   ]
  },
  {
   "cell_type": "code",
   "execution_count": 8,
   "id": "1918a920-02ad-4a19-a183-7b3a0a00e5a3",
   "metadata": {
    "tags": []
   },
   "outputs": [],
   "source": [
    "select_df = large_fires_df[large_fires_df['FIRE_YEAR'] == current_year]"
   ]
  },
  {
   "cell_type": "code",
   "execution_count": 9,
   "id": "556cce8c-1b8c-46dd-95ee-d42c878cc1eb",
   "metadata": {
    "tags": []
   },
   "outputs": [
    {
     "data": {
      "text/html": [
       "<div>\n",
       "<style scoped>\n",
       "    .dataframe tbody tr th:only-of-type {\n",
       "        vertical-align: middle;\n",
       "    }\n",
       "\n",
       "    .dataframe tbody tr th {\n",
       "        vertical-align: top;\n",
       "    }\n",
       "\n",
       "    .dataframe thead th {\n",
       "        text-align: right;\n",
       "    }\n",
       "</style>\n",
       "<table border=\"1\" class=\"dataframe\">\n",
       "  <thead>\n",
       "    <tr style=\"text-align: right;\">\n",
       "      <th></th>\n",
       "      <th>FIRE_NAME</th>\n",
       "      <th>FIRE_YEAR</th>\n",
       "      <th>FIRE_SIZE</th>\n",
       "      <th>FIRE_SIZE_CLASS</th>\n",
       "      <th>LATITUDE</th>\n",
       "      <th>LONGITUDE</th>\n",
       "      <th>STATE</th>\n",
       "    </tr>\n",
       "  </thead>\n",
       "  <tbody>\n",
       "    <tr>\n",
       "      <th>11947</th>\n",
       "      <td>ROBERTS</td>\n",
       "      <td>1999</td>\n",
       "      <td>175.0</td>\n",
       "      <td>D</td>\n",
       "      <td>33.618889</td>\n",
       "      <td>-107.418333</td>\n",
       "      <td>NM</td>\n",
       "    </tr>\n",
       "    <tr>\n",
       "      <th>11948</th>\n",
       "      <td>NUTRIOSO</td>\n",
       "      <td>1999</td>\n",
       "      <td>350.0</td>\n",
       "      <td>E</td>\n",
       "      <td>34.118611</td>\n",
       "      <td>-109.200556</td>\n",
       "      <td>AZ</td>\n",
       "    </tr>\n",
       "    <tr>\n",
       "      <th>11949</th>\n",
       "      <td>TELEPHONE</td>\n",
       "      <td>1999</td>\n",
       "      <td>2208.0</td>\n",
       "      <td>F</td>\n",
       "      <td>33.133400</td>\n",
       "      <td>-105.733900</td>\n",
       "      <td>NM</td>\n",
       "    </tr>\n",
       "    <tr>\n",
       "      <th>11950</th>\n",
       "      <td>FIVE</td>\n",
       "      <td>1999</td>\n",
       "      <td>316.0</td>\n",
       "      <td>E</td>\n",
       "      <td>34.881667</td>\n",
       "      <td>-118.926667</td>\n",
       "      <td>CA</td>\n",
       "    </tr>\n",
       "    <tr>\n",
       "      <th>11951</th>\n",
       "      <td>CANYON</td>\n",
       "      <td>1999</td>\n",
       "      <td>200.0</td>\n",
       "      <td>D</td>\n",
       "      <td>34.518611</td>\n",
       "      <td>-119.383056</td>\n",
       "      <td>CA</td>\n",
       "    </tr>\n",
       "    <tr>\n",
       "      <th>...</th>\n",
       "      <td>...</td>\n",
       "      <td>...</td>\n",
       "      <td>...</td>\n",
       "      <td>...</td>\n",
       "      <td>...</td>\n",
       "      <td>...</td>\n",
       "      <td>...</td>\n",
       "    </tr>\n",
       "    <tr>\n",
       "      <th>14447</th>\n",
       "      <td>SHINILIKRO</td>\n",
       "      <td>1999</td>\n",
       "      <td>930.0</td>\n",
       "      <td>E</td>\n",
       "      <td>66.432800</td>\n",
       "      <td>-157.436000</td>\n",
       "      <td>AK</td>\n",
       "    </tr>\n",
       "    <tr>\n",
       "      <th>14448</th>\n",
       "      <td>KILIOVILIK</td>\n",
       "      <td>1999</td>\n",
       "      <td>2061.0</td>\n",
       "      <td>F</td>\n",
       "      <td>66.616100</td>\n",
       "      <td>-157.252700</td>\n",
       "      <td>AK</td>\n",
       "    </tr>\n",
       "    <tr>\n",
       "      <th>14449</th>\n",
       "      <td>BIG CREEK</td>\n",
       "      <td>1999</td>\n",
       "      <td>512.0</td>\n",
       "      <td>E</td>\n",
       "      <td>64.732700</td>\n",
       "      <td>-154.852500</td>\n",
       "      <td>AK</td>\n",
       "    </tr>\n",
       "    <tr>\n",
       "      <th>14450</th>\n",
       "      <td>FIELDS</td>\n",
       "      <td>1999</td>\n",
       "      <td>700.0</td>\n",
       "      <td>E</td>\n",
       "      <td>32.954700</td>\n",
       "      <td>-103.530296</td>\n",
       "      <td>NM</td>\n",
       "    </tr>\n",
       "    <tr>\n",
       "      <th>14451</th>\n",
       "      <td>HENSHAW CR</td>\n",
       "      <td>1999</td>\n",
       "      <td>280.0</td>\n",
       "      <td>D</td>\n",
       "      <td>66.566200</td>\n",
       "      <td>-152.269300</td>\n",
       "      <td>AK</td>\n",
       "    </tr>\n",
       "  </tbody>\n",
       "</table>\n",
       "<p>2505 rows × 7 columns</p>\n",
       "</div>"
      ],
      "text/plain": [
       "        FIRE_NAME  FIRE_YEAR  FIRE_SIZE FIRE_SIZE_CLASS   LATITUDE  \\\n",
       "11947     ROBERTS       1999      175.0               D  33.618889   \n",
       "11948    NUTRIOSO       1999      350.0               E  34.118611   \n",
       "11949   TELEPHONE       1999     2208.0               F  33.133400   \n",
       "11950        FIVE       1999      316.0               E  34.881667   \n",
       "11951      CANYON       1999      200.0               D  34.518611   \n",
       "...           ...        ...        ...             ...        ...   \n",
       "14447  SHINILIKRO       1999      930.0               E  66.432800   \n",
       "14448  KILIOVILIK       1999     2061.0               F  66.616100   \n",
       "14449   BIG CREEK       1999      512.0               E  64.732700   \n",
       "14450      FIELDS       1999      700.0               E  32.954700   \n",
       "14451  HENSHAW CR       1999      280.0               D  66.566200   \n",
       "\n",
       "        LONGITUDE STATE  \n",
       "11947 -107.418333    NM  \n",
       "11948 -109.200556    AZ  \n",
       "11949 -105.733900    NM  \n",
       "11950 -118.926667    CA  \n",
       "11951 -119.383056    CA  \n",
       "...           ...   ...  \n",
       "14447 -157.436000    AK  \n",
       "14448 -157.252700    AK  \n",
       "14449 -154.852500    AK  \n",
       "14450 -103.530296    NM  \n",
       "14451 -152.269300    AK  \n",
       "\n",
       "[2505 rows x 7 columns]"
      ]
     },
     "execution_count": 9,
     "metadata": {},
     "output_type": "execute_result"
    }
   ],
   "source": [
    "select_df"
   ]
  },
  {
   "cell_type": "code",
   "execution_count": null,
   "id": "a6263e49-ac3d-460a-a549-c4ee1538c5bd",
   "metadata": {},
   "outputs": [],
   "source": []
  }
 ],
 "metadata": {
  "kernelspec": {
   "display_name": "Python 3 (ipykernel)",
   "language": "python",
   "name": "python3"
  },
  "language_info": {
   "codemirror_mode": {
    "name": "ipython",
    "version": 3
   },
   "file_extension": ".py",
   "mimetype": "text/x-python",
   "name": "python",
   "nbconvert_exporter": "python",
   "pygments_lexer": "ipython3",
   "version": "3.10.13"
  }
 },
 "nbformat": 4,
 "nbformat_minor": 5
}
