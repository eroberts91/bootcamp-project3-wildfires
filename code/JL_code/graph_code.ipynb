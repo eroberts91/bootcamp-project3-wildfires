{
 "cells": [
  {
   "cell_type": "markdown",
   "metadata": {},
   "source": [
    "<h2>Data Collection</h2>\n",
    "\n",
    "Data was downloaded from the US Department of Agriculture\n",
    "\n",
    "https://www.fs.usda.gov/rds/archive/catalog/RDS-2013-0009.6\n",
    "\n",
    "The data was provided as a SQLite database file. This was opened in DB Viewer to examine its structure. The data used in this work is in a single table so uneeded columns were removed. The table was then exported as a .csv file.\n",
    "\n",
    "None of the data contains any personal identification information. The data was made available by its authors for use without additonal permission or fees.\n",
    "\n",
    "Short, Karen C. 2022. Spatial wildfire occurrence data for the United States, 1992-2020 [FPA_FOD_20221014]. 6th Edition. Fort Collins, CO: Forest Service Research Data Archive. https://doi.org/10.2737/RDS-2013-0009.6\n",
    "\n",
    "\n"
   ]
  },
  {
   "cell_type": "code",
   "execution_count": 1,
   "metadata": {},
   "outputs": [],
   "source": [
    "# Import dependencies\n",
    "\n",
    "import pandas as pd\n",
    "import plotly.express as px\n",
    "from dash import Dash, html, dcc, callback, Output, Input\n",
    "from base64 import b64encode\n",
    "import io"
   ]
  },
  {
   "cell_type": "code",
   "execution_count": 2,
   "metadata": {},
   "outputs": [],
   "source": [
    "## Read in csv file\n",
    "df = pd.read_csv('Fires.csv')"
   ]
  },
  {
   "cell_type": "markdown",
   "metadata": {},
   "source": [
    "<h2>Data Cleaning</h2>"
   ]
  },
  {
   "cell_type": "code",
   "execution_count": 3,
   "metadata": {},
   "outputs": [],
   "source": [
    "## Some of the Fire Causes are too long & are causing problems with bar graph formating \n",
    "\n",
    "\n",
    "## Replace longer names with shorter ones\n",
    "df['NWCG_GENERAL_CAUSE'].replace(\n",
    "        {'Debris and open burning': 'Debris Burning', \n",
    "         'Missing data/not specified/undetermined': 'Undetermined', \n",
    "         'Recreation and ceremony': 'Recreation',\n",
    "         'Equipment and vehicle use': 'Equipment use',\n",
    "         'Arson/incendiarism': 'Arson',\n",
    "         'Railroad operations and maintenance': 'Railroad',\n",
    "         'Misuse of fire by a minor': 'Children',\n",
    "         'Firearms and explosives use': 'Firearms',\n",
    "         'Power generation/transmission/distribution': 'Electricity supply'\n",
    "         }, inplace=True)\n",
    "\n"
   ]
  },
  {
   "cell_type": "markdown",
   "metadata": {},
   "source": [
    "<h2>Graphing Data using Plotly</h2>"
   ]
  },
  {
   "cell_type": "code",
   "execution_count": 10,
   "metadata": {},
   "outputs": [
    {
     "data": {
      "application/vnd.plotly.v1+json": {
       "config": {
        "plotlyServerURL": "https://plot.ly"
       },
       "data": [
        {
         "hovertemplate": "variable=OBJECTID<br>Year=%{x}<br>Number of Fires=%{y}<extra></extra>",
         "legendgroup": "OBJECTID",
         "line": {
          "color": "#636efa",
          "dash": "solid"
         },
         "marker": {
          "symbol": "circle"
         },
         "mode": "lines",
         "name": "OBJECTID",
         "orientation": "v",
         "showlegend": true,
         "type": "scatter",
         "x": [
          1992,
          1993,
          1994,
          1995,
          1996,
          1997,
          1998,
          1999,
          2000,
          2001,
          2002,
          2003,
          2004,
          2005,
          2006,
          2007,
          2008,
          2009,
          2010,
          2011,
          2012,
          2013,
          2014,
          2015,
          2016,
          2017,
          2018,
          2019,
          2020
         ],
         "xaxis": "x",
         "y": [
          67961,
          61975,
          75932,
          71440,
          75561,
          61442,
          68356,
          89350,
          96396,
          87001,
          76128,
          68275,
          69370,
          92921,
          117943,
          98837,
          88306,
          81492,
          85579,
          98903,
          74258,
          66434,
          70480,
          77275,
          81993,
          82279,
          80860,
          63557,
          73262
         ],
         "yaxis": "y"
        },
        {
         "hovertemplate": "variable=STATE<br>Year=%{x}<br>Number of Fires=%{y}<extra></extra>",
         "legendgroup": "STATE",
         "line": {
          "color": "#EF553B",
          "dash": "solid"
         },
         "marker": {
          "symbol": "circle"
         },
         "mode": "lines",
         "name": "STATE",
         "orientation": "v",
         "showlegend": true,
         "type": "scatter",
         "x": [
          1992,
          1993,
          1994,
          1995,
          1996,
          1997,
          1998,
          1999,
          2000,
          2001,
          2002,
          2003,
          2004,
          2005,
          2006,
          2007,
          2008,
          2009,
          2010,
          2011,
          2012,
          2013,
          2014,
          2015,
          2016,
          2017,
          2018,
          2019,
          2020
         ],
         "xaxis": "x",
         "y": [
          67961,
          61975,
          75932,
          71440,
          75561,
          61442,
          68356,
          89350,
          96396,
          87001,
          76128,
          68275,
          69370,
          92921,
          117943,
          98837,
          88306,
          81492,
          85579,
          98903,
          74258,
          66434,
          70480,
          77275,
          81993,
          82279,
          80860,
          63557,
          73262
         ],
         "yaxis": "y"
        }
       ],
       "layout": {
        "legend": {
         "title": {
          "text": "variable"
         },
         "tracegroupgap": 0
        },
        "showlegend": false,
        "template": {
         "data": {
          "bar": [
           {
            "error_x": {
             "color": "#2a3f5f"
            },
            "error_y": {
             "color": "#2a3f5f"
            },
            "marker": {
             "line": {
              "color": "#E5ECF6",
              "width": 0.5
             },
             "pattern": {
              "fillmode": "overlay",
              "size": 10,
              "solidity": 0.2
             }
            },
            "type": "bar"
           }
          ],
          "barpolar": [
           {
            "marker": {
             "line": {
              "color": "#E5ECF6",
              "width": 0.5
             },
             "pattern": {
              "fillmode": "overlay",
              "size": 10,
              "solidity": 0.2
             }
            },
            "type": "barpolar"
           }
          ],
          "carpet": [
           {
            "aaxis": {
             "endlinecolor": "#2a3f5f",
             "gridcolor": "white",
             "linecolor": "white",
             "minorgridcolor": "white",
             "startlinecolor": "#2a3f5f"
            },
            "baxis": {
             "endlinecolor": "#2a3f5f",
             "gridcolor": "white",
             "linecolor": "white",
             "minorgridcolor": "white",
             "startlinecolor": "#2a3f5f"
            },
            "type": "carpet"
           }
          ],
          "choropleth": [
           {
            "colorbar": {
             "outlinewidth": 0,
             "ticks": ""
            },
            "type": "choropleth"
           }
          ],
          "contour": [
           {
            "colorbar": {
             "outlinewidth": 0,
             "ticks": ""
            },
            "colorscale": [
             [
              0,
              "#0d0887"
             ],
             [
              0.1111111111111111,
              "#46039f"
             ],
             [
              0.2222222222222222,
              "#7201a8"
             ],
             [
              0.3333333333333333,
              "#9c179e"
             ],
             [
              0.4444444444444444,
              "#bd3786"
             ],
             [
              0.5555555555555556,
              "#d8576b"
             ],
             [
              0.6666666666666666,
              "#ed7953"
             ],
             [
              0.7777777777777778,
              "#fb9f3a"
             ],
             [
              0.8888888888888888,
              "#fdca26"
             ],
             [
              1,
              "#f0f921"
             ]
            ],
            "type": "contour"
           }
          ],
          "contourcarpet": [
           {
            "colorbar": {
             "outlinewidth": 0,
             "ticks": ""
            },
            "type": "contourcarpet"
           }
          ],
          "heatmap": [
           {
            "colorbar": {
             "outlinewidth": 0,
             "ticks": ""
            },
            "colorscale": [
             [
              0,
              "#0d0887"
             ],
             [
              0.1111111111111111,
              "#46039f"
             ],
             [
              0.2222222222222222,
              "#7201a8"
             ],
             [
              0.3333333333333333,
              "#9c179e"
             ],
             [
              0.4444444444444444,
              "#bd3786"
             ],
             [
              0.5555555555555556,
              "#d8576b"
             ],
             [
              0.6666666666666666,
              "#ed7953"
             ],
             [
              0.7777777777777778,
              "#fb9f3a"
             ],
             [
              0.8888888888888888,
              "#fdca26"
             ],
             [
              1,
              "#f0f921"
             ]
            ],
            "type": "heatmap"
           }
          ],
          "heatmapgl": [
           {
            "colorbar": {
             "outlinewidth": 0,
             "ticks": ""
            },
            "colorscale": [
             [
              0,
              "#0d0887"
             ],
             [
              0.1111111111111111,
              "#46039f"
             ],
             [
              0.2222222222222222,
              "#7201a8"
             ],
             [
              0.3333333333333333,
              "#9c179e"
             ],
             [
              0.4444444444444444,
              "#bd3786"
             ],
             [
              0.5555555555555556,
              "#d8576b"
             ],
             [
              0.6666666666666666,
              "#ed7953"
             ],
             [
              0.7777777777777778,
              "#fb9f3a"
             ],
             [
              0.8888888888888888,
              "#fdca26"
             ],
             [
              1,
              "#f0f921"
             ]
            ],
            "type": "heatmapgl"
           }
          ],
          "histogram": [
           {
            "marker": {
             "pattern": {
              "fillmode": "overlay",
              "size": 10,
              "solidity": 0.2
             }
            },
            "type": "histogram"
           }
          ],
          "histogram2d": [
           {
            "colorbar": {
             "outlinewidth": 0,
             "ticks": ""
            },
            "colorscale": [
             [
              0,
              "#0d0887"
             ],
             [
              0.1111111111111111,
              "#46039f"
             ],
             [
              0.2222222222222222,
              "#7201a8"
             ],
             [
              0.3333333333333333,
              "#9c179e"
             ],
             [
              0.4444444444444444,
              "#bd3786"
             ],
             [
              0.5555555555555556,
              "#d8576b"
             ],
             [
              0.6666666666666666,
              "#ed7953"
             ],
             [
              0.7777777777777778,
              "#fb9f3a"
             ],
             [
              0.8888888888888888,
              "#fdca26"
             ],
             [
              1,
              "#f0f921"
             ]
            ],
            "type": "histogram2d"
           }
          ],
          "histogram2dcontour": [
           {
            "colorbar": {
             "outlinewidth": 0,
             "ticks": ""
            },
            "colorscale": [
             [
              0,
              "#0d0887"
             ],
             [
              0.1111111111111111,
              "#46039f"
             ],
             [
              0.2222222222222222,
              "#7201a8"
             ],
             [
              0.3333333333333333,
              "#9c179e"
             ],
             [
              0.4444444444444444,
              "#bd3786"
             ],
             [
              0.5555555555555556,
              "#d8576b"
             ],
             [
              0.6666666666666666,
              "#ed7953"
             ],
             [
              0.7777777777777778,
              "#fb9f3a"
             ],
             [
              0.8888888888888888,
              "#fdca26"
             ],
             [
              1,
              "#f0f921"
             ]
            ],
            "type": "histogram2dcontour"
           }
          ],
          "mesh3d": [
           {
            "colorbar": {
             "outlinewidth": 0,
             "ticks": ""
            },
            "type": "mesh3d"
           }
          ],
          "parcoords": [
           {
            "line": {
             "colorbar": {
              "outlinewidth": 0,
              "ticks": ""
             }
            },
            "type": "parcoords"
           }
          ],
          "pie": [
           {
            "automargin": true,
            "type": "pie"
           }
          ],
          "scatter": [
           {
            "fillpattern": {
             "fillmode": "overlay",
             "size": 10,
             "solidity": 0.2
            },
            "type": "scatter"
           }
          ],
          "scatter3d": [
           {
            "line": {
             "colorbar": {
              "outlinewidth": 0,
              "ticks": ""
             }
            },
            "marker": {
             "colorbar": {
              "outlinewidth": 0,
              "ticks": ""
             }
            },
            "type": "scatter3d"
           }
          ],
          "scattercarpet": [
           {
            "marker": {
             "colorbar": {
              "outlinewidth": 0,
              "ticks": ""
             }
            },
            "type": "scattercarpet"
           }
          ],
          "scattergeo": [
           {
            "marker": {
             "colorbar": {
              "outlinewidth": 0,
              "ticks": ""
             }
            },
            "type": "scattergeo"
           }
          ],
          "scattergl": [
           {
            "marker": {
             "colorbar": {
              "outlinewidth": 0,
              "ticks": ""
             }
            },
            "type": "scattergl"
           }
          ],
          "scattermapbox": [
           {
            "marker": {
             "colorbar": {
              "outlinewidth": 0,
              "ticks": ""
             }
            },
            "type": "scattermapbox"
           }
          ],
          "scatterpolar": [
           {
            "marker": {
             "colorbar": {
              "outlinewidth": 0,
              "ticks": ""
             }
            },
            "type": "scatterpolar"
           }
          ],
          "scatterpolargl": [
           {
            "marker": {
             "colorbar": {
              "outlinewidth": 0,
              "ticks": ""
             }
            },
            "type": "scatterpolargl"
           }
          ],
          "scatterternary": [
           {
            "marker": {
             "colorbar": {
              "outlinewidth": 0,
              "ticks": ""
             }
            },
            "type": "scatterternary"
           }
          ],
          "surface": [
           {
            "colorbar": {
             "outlinewidth": 0,
             "ticks": ""
            },
            "colorscale": [
             [
              0,
              "#0d0887"
             ],
             [
              0.1111111111111111,
              "#46039f"
             ],
             [
              0.2222222222222222,
              "#7201a8"
             ],
             [
              0.3333333333333333,
              "#9c179e"
             ],
             [
              0.4444444444444444,
              "#bd3786"
             ],
             [
              0.5555555555555556,
              "#d8576b"
             ],
             [
              0.6666666666666666,
              "#ed7953"
             ],
             [
              0.7777777777777778,
              "#fb9f3a"
             ],
             [
              0.8888888888888888,
              "#fdca26"
             ],
             [
              1,
              "#f0f921"
             ]
            ],
            "type": "surface"
           }
          ],
          "table": [
           {
            "cells": {
             "fill": {
              "color": "#EBF0F8"
             },
             "line": {
              "color": "white"
             }
            },
            "header": {
             "fill": {
              "color": "#C8D4E3"
             },
             "line": {
              "color": "white"
             }
            },
            "type": "table"
           }
          ]
         },
         "layout": {
          "annotationdefaults": {
           "arrowcolor": "#2a3f5f",
           "arrowhead": 0,
           "arrowwidth": 1
          },
          "autotypenumbers": "strict",
          "coloraxis": {
           "colorbar": {
            "outlinewidth": 0,
            "ticks": ""
           }
          },
          "colorscale": {
           "diverging": [
            [
             0,
             "#8e0152"
            ],
            [
             0.1,
             "#c51b7d"
            ],
            [
             0.2,
             "#de77ae"
            ],
            [
             0.3,
             "#f1b6da"
            ],
            [
             0.4,
             "#fde0ef"
            ],
            [
             0.5,
             "#f7f7f7"
            ],
            [
             0.6,
             "#e6f5d0"
            ],
            [
             0.7,
             "#b8e186"
            ],
            [
             0.8,
             "#7fbc41"
            ],
            [
             0.9,
             "#4d9221"
            ],
            [
             1,
             "#276419"
            ]
           ],
           "sequential": [
            [
             0,
             "#0d0887"
            ],
            [
             0.1111111111111111,
             "#46039f"
            ],
            [
             0.2222222222222222,
             "#7201a8"
            ],
            [
             0.3333333333333333,
             "#9c179e"
            ],
            [
             0.4444444444444444,
             "#bd3786"
            ],
            [
             0.5555555555555556,
             "#d8576b"
            ],
            [
             0.6666666666666666,
             "#ed7953"
            ],
            [
             0.7777777777777778,
             "#fb9f3a"
            ],
            [
             0.8888888888888888,
             "#fdca26"
            ],
            [
             1,
             "#f0f921"
            ]
           ],
           "sequentialminus": [
            [
             0,
             "#0d0887"
            ],
            [
             0.1111111111111111,
             "#46039f"
            ],
            [
             0.2222222222222222,
             "#7201a8"
            ],
            [
             0.3333333333333333,
             "#9c179e"
            ],
            [
             0.4444444444444444,
             "#bd3786"
            ],
            [
             0.5555555555555556,
             "#d8576b"
            ],
            [
             0.6666666666666666,
             "#ed7953"
            ],
            [
             0.7777777777777778,
             "#fb9f3a"
            ],
            [
             0.8888888888888888,
             "#fdca26"
            ],
            [
             1,
             "#f0f921"
            ]
           ]
          },
          "colorway": [
           "#636efa",
           "#EF553B",
           "#00cc96",
           "#ab63fa",
           "#FFA15A",
           "#19d3f3",
           "#FF6692",
           "#B6E880",
           "#FF97FF",
           "#FECB52"
          ],
          "font": {
           "color": "#2a3f5f"
          },
          "geo": {
           "bgcolor": "white",
           "lakecolor": "white",
           "landcolor": "#E5ECF6",
           "showlakes": true,
           "showland": true,
           "subunitcolor": "white"
          },
          "hoverlabel": {
           "align": "left"
          },
          "hovermode": "closest",
          "mapbox": {
           "style": "light"
          },
          "paper_bgcolor": "white",
          "plot_bgcolor": "#E5ECF6",
          "polar": {
           "angularaxis": {
            "gridcolor": "white",
            "linecolor": "white",
            "ticks": ""
           },
           "bgcolor": "#E5ECF6",
           "radialaxis": {
            "gridcolor": "white",
            "linecolor": "white",
            "ticks": ""
           }
          },
          "scene": {
           "xaxis": {
            "backgroundcolor": "#E5ECF6",
            "gridcolor": "white",
            "gridwidth": 2,
            "linecolor": "white",
            "showbackground": true,
            "ticks": "",
            "zerolinecolor": "white"
           },
           "yaxis": {
            "backgroundcolor": "#E5ECF6",
            "gridcolor": "white",
            "gridwidth": 2,
            "linecolor": "white",
            "showbackground": true,
            "ticks": "",
            "zerolinecolor": "white"
           },
           "zaxis": {
            "backgroundcolor": "#E5ECF6",
            "gridcolor": "white",
            "gridwidth": 2,
            "linecolor": "white",
            "showbackground": true,
            "ticks": "",
            "zerolinecolor": "white"
           }
          },
          "shapedefaults": {
           "line": {
            "color": "#2a3f5f"
           }
          },
          "ternary": {
           "aaxis": {
            "gridcolor": "white",
            "linecolor": "white",
            "ticks": ""
           },
           "baxis": {
            "gridcolor": "white",
            "linecolor": "white",
            "ticks": ""
           },
           "bgcolor": "#E5ECF6",
           "caxis": {
            "gridcolor": "white",
            "linecolor": "white",
            "ticks": ""
           }
          },
          "title": {
           "x": 0.05
          },
          "xaxis": {
           "automargin": true,
           "gridcolor": "white",
           "linecolor": "white",
           "ticks": "",
           "title": {
            "standoff": 15
           },
           "zerolinecolor": "white",
           "zerolinewidth": 2
          },
          "yaxis": {
           "automargin": true,
           "gridcolor": "white",
           "linecolor": "white",
           "ticks": "",
           "title": {
            "standoff": 15
           },
           "zerolinecolor": "white",
           "zerolinewidth": 2
          }
         }
        },
        "title": {
         "text": "Fires by Year: United States"
        },
        "updatemenus": [
         {
          "buttons": [
           {
            "args": [
             {
              "y": [
               [
                67961,
                61975,
                75932,
                71440,
                75561,
                61442,
                68356,
                89350,
                96396,
                87001,
                76128,
                68275,
                69370,
                92921,
                117943,
                98837,
                88306,
                81492,
                85579,
                98903,
                74258,
                66434,
                70480,
                77275,
                81993,
                82279,
                80860,
                63557,
                73262
               ]
              ]
             },
             {
              "title": "Fires by Year: United States"
             }
            ],
            "label": "United States",
            "method": "update"
           },
           {
            "args": [
             {
              "y": [
               [
                10831,
                8268,
                8649,
                7381,
                9170,
                7928,
                6861,
                8909,
                6970,
                8163,
                7118,
                7894,
                7407,
                10219,
                12038,
                13428,
                10594,
                9862,
                8304,
                8560,
                7198,
                8722,
                6493,
                7355,
                7882,
                9537,
                9488,
                6454,
                10198
               ]
              ]
             },
             {
              "title": "Fires by Year: California"
             }
            ],
            "label": "CA",
            "method": "update"
           },
           {
            "args": [
             {
              "y": [
               [
                6458,
                9111,
                6584,
                7966,
                9872,
                7234,
                7301,
                11138,
                10545,
                9568,
                7801,
                4567,
                8127,
                6049,
                8925,
                8717,
                5807,
                4176,
                5867,
                8413,
                4949,
                3252,
                4063,
                2355,
                5096,
                3660,
                2574,
                3171,
                1694
               ]
              ]
             },
             {
              "title": "Fires by Year: Georgia"
             }
            ],
            "label": "GA",
            "method": "update"
           },
           {
            "args": [
             {
              "y": [
               [
                1168,
                1457,
                907,
                1648,
                2842,
                769,
                2024,
                1777,
                2633,
                771,
                1228,
                1146,
                1040,
                6901,
                15019,
                5477,
                18068,
                14142,
                9353,
                19451,
                7623,
                9734,
                8538,
                8304,
                8586,
                8922,
                7531,
                6455,
                6573
               ]
              ]
             },
             {
              "title": "Fires Causes by Year: Texas"
             }
            ],
            "label": "TX",
            "method": "update"
           },
           {
            "args": [
             {
              "y": [
               [
                5696,
                4808,
                5739,
                5253,
                4238,
                4512,
                4324,
                4041,
                4986,
                8143,
                5590,
                2041,
                4343,
                4044,
                5059,
                7284,
                4382,
                3311,
                4100,
                5426,
                3559,
                3329,
                4587,
                2471,
                4283,
                5159,
                3085,
                3940,
                2432
               ]
              ]
             },
             {
              "title": "Fires by Year: North Carolina"
             }
            ],
            "label": "NC",
            "method": "update"
           },
           {
            "args": [
             {
              "y": [
               [
                4222,
                4548,
                3530,
                3186,
                4697,
                3912,
                4813,
                5484,
                6504,
                4891,
                3131,
                2148,
                3610,
                2392,
                5099,
                4577,
                3100,
                3008,
                3291,
                5029,
                3107,
                2163,
                2144,
                2548,
                3052,
                3098,
                2072,
                1938,
                2115
               ]
              ]
             },
             {
              "title": "Fires by Year: Florida"
             }
            ],
            "label": "FL",
            "method": "update"
           },
           {
            "args": [
             {
              "y": [
               [
                5195,
                5287,
                4489,
                3520,
                4414,
                3070,
                3508,
                5384,
                4995,
                6225,
                4683,
                1315,
                3058,
                2704,
                2855,
                3998,
                2744,
                1757,
                2144,
                3181,
                1971,
                1626,
                1893,
                1299,
                1428,
                1782,
                1496,
                1386,
                645
               ]
              ]
             },
             {
              "title": "Fires by Year: South Carolina"
             }
            ],
            "label": "SC",
            "method": "update"
           },
           {
            "args": [
             {
              "y": [
               [
                364,
                304,
                129,
                487,
                107,
                365,
                310,
                711,
                1756,
                3262,
                3512,
                4933,
                4062,
                7700,
                6629,
                6317,
                7155,
                5764,
                6181,
                3740,
                3944,
                2888,
                4358,
                5874,
                6409,
                3405,
                2505,
                2240,
                3731
               ]
              ]
             },
             {
              "title": "Fires by Year: New York"
             }
            ],
            "label": "NY",
            "method": "update"
           },
           {
            "args": [
             {
              "y": [
               [
                4478,
                4015,
                3355,
                4992,
                4923,
                2782,
                3421,
                5436,
                7984,
                2888,
                2832,
                1913,
                2812,
                3520,
                5533,
                2767,
                2012,
                1965,
                2919,
                1614,
                1218,
                1488,
                2224,
                2125,
                1934,
                1266,
                690,
                882,
                718
               ]
              ]
             },
             {
              "title": "Fires by Year: Mississippi"
             }
            ],
            "label": "MS",
            "method": "update"
           },
           {
            "args": [
             {
              "y": [
               [
                3494,
                4636,
                4519,
                4501,
                3761,
                2250,
                2679,
                2736,
                3859,
                3186,
                2917,
                2915,
                2906,
                3689,
                3315,
                2442,
                1898,
                2452,
                3061,
                3559,
                3206,
                3083,
                2827,
                3819,
                1787,
                4181,
                9738,
                5810,
                5730
               ]
              ]
             },
             {
              "title": "Fires by Year: Arizona"
             }
            ],
            "label": "AZ",
            "method": "update"
           },
           {
            "args": [
             {
              "y": [
               [
                93,
                137,
                3452,
                4230,
                4048,
                2591,
                3566,
                4501,
                6266,
                3309,
                2926,
                1819,
                3052,
                2547,
                3947,
                3833,
                2006,
                1370,
                2913,
                2042,
                1747,
                1670,
                2418,
                2074,
                3775,
                1241,
                909,
                1569,
                782
               ]
              ]
             },
             {
              "title": "Fires by Year: Alabama"
             }
            ],
            "label": "AL",
            "method": "update"
           }
          ],
          "direction": "down",
          "showactive": true,
          "type": "dropdown",
          "x": 0.2,
          "y": 1.15
         }
        ],
        "xaxis": {
         "anchor": "y",
         "domain": [
          0,
          1
         ],
         "title": {
          "text": "Year"
         }
        },
        "yaxis": {
         "anchor": "x",
         "domain": [
          0,
          1
         ],
         "title": {
          "text": "Number of Fires"
         }
        }
       }
      }
     },
     "metadata": {},
     "output_type": "display_data"
    }
   ],
   "source": [
    "# Graph of number of fires per year for the ten states with the largest numbers of fires\n",
    "\n",
    "# Selecting only columns needed from imported data\n",
    "fire_years_state_df = df[['OBJECTID','FIRE_YEAR','STATE']]\n",
    "\n",
    "# Setting up variables for each state, with fire data grouped by year\n",
    "national_graph_data = fire_years_state_df.groupby('FIRE_YEAR').count()\n",
    "ca_graph_data = fire_years_state_df[(fire_years_state_df['STATE']== 'CA')].groupby('FIRE_YEAR').count()\n",
    "ga_graph_data = fire_years_state_df[(fire_years_state_df['STATE']== 'GA')].groupby('FIRE_YEAR').count()\n",
    "tx_graph_data = fire_years_state_df[(fire_years_state_df['STATE']== 'TX')].groupby('FIRE_YEAR').count()\n",
    "nc_graph_data = fire_years_state_df[(fire_years_state_df['STATE']== 'NC')].groupby('FIRE_YEAR').count()\n",
    "fl_graph_data = fire_years_state_df[(fire_years_state_df['STATE']== 'FL')].groupby('FIRE_YEAR').count()\n",
    "sc_graph_data = fire_years_state_df[(fire_years_state_df['STATE']== 'SC')].groupby('FIRE_YEAR').count()\n",
    "ny_graph_data = fire_years_state_df[(fire_years_state_df['STATE']== 'NY')].groupby('FIRE_YEAR').count()\n",
    "ms_graph_data = fire_years_state_df[(fire_years_state_df['STATE']== 'MS')].groupby('FIRE_YEAR').count()\n",
    "az_graph_data = fire_years_state_df[(fire_years_state_df['STATE']== 'AZ')].groupby('FIRE_YEAR').count()\n",
    "al_graph_data = fire_years_state_df[(fire_years_state_df['STATE']== 'AL')].groupby('FIRE_YEAR').count()\n",
    "\n",
    "# Set up initial graph showing the number of fires per year nationally\n",
    "fig_line = px.line(national_graph_data, labels={\n",
    "                     \"FIRE_YEAR\": \"Year\",\n",
    "                     \"value\": \"Number of Fires\"},\n",
    "                title='Fires by Year: United States'\n",
    "            )\n",
    "# Remove the default legend\n",
    "fig_line.update_layout(showlegend = False)\n",
    "\n",
    "# Changing graph layout to include buttons which cause different data to be displayed in the graph\n",
    "fig_line.update_layout(\n",
    "    updatemenus=[\n",
    "        \n",
    "        # displays buttons on graph\n",
    "        dict(type=\"dropdown\",\n",
    "            direction=\"down\",\n",
    "            x=0.2,\n",
    "            y=1.15,\n",
    "            showactive=True,\n",
    "            # List of buttons to be added. One dictionary for each button\n",
    "            buttons=list(\n",
    "                [\n",
    "                dict(\n",
    "                    # Text on button\n",
    "                    label= 'United States',\n",
    "                    method=\"update\",\n",
    "                    # Change to make when button is selected\n",
    "                    args=[{\"y\" : [national_graph_data.OBJECTID]},\n",
    "                          {\"title\": \"Fires by Year: United States\"}\n",
    "                          ]),\n",
    "                \n",
    "                dict(\n",
    "                    label= 'CA',\n",
    "                    method=\"update\",\n",
    "                    args=[{\"y\" : [ca_graph_data.OBJECTID]},\n",
    "                          {\"title\": \"Fires by Year: California\"}\n",
    "                          ]),\n",
    "                \n",
    "                dict(\n",
    "                    label= 'GA',\n",
    "                    method=\"update\",\n",
    "                    args=[{\"y\" : [ga_graph_data.OBJECTID]},\n",
    "                          {\"title\": \"Fires by Year: Georgia\"}\n",
    "                          ]),\n",
    "                \n",
    "                dict(\n",
    "                    label= 'TX',\n",
    "                    method=\"update\",\n",
    "                    args=[{\"y\" : [tx_graph_data.OBJECTID]},\n",
    "                         {\"title\": \"Fires Causes by Year: Texas\"}\n",
    "                         ]),\n",
    "                \n",
    "                dict(\n",
    "                    label= 'NC',\n",
    "                    method=\"update\",\n",
    "                    args=[{\"y\" : [nc_graph_data.OBJECTID]},\n",
    "                          {\"title\": \"Fires by Year: North Carolina\"}\n",
    "                          ]),\n",
    "                \n",
    "                dict(\n",
    "                    label= 'FL',\n",
    "                    method=\"update\",\n",
    "                    args=[{\"y\" : [fl_graph_data.OBJECTID]},\n",
    "                         {\"title\": \"Fires by Year: Florida\"}\n",
    "                         ]),\n",
    "                \n",
    "                dict(\n",
    "                    label= 'SC',\n",
    "                    method=\"update\",\n",
    "                    args=[{\"y\" : [sc_graph_data.OBJECTID]},\n",
    "                         {\"title\": \"Fires by Year: South Carolina\"}\n",
    "                         ]),\n",
    "                \n",
    "                dict(\n",
    "                    label='NY',\n",
    "                    method=\"update\",\n",
    "                    args=[{\"y\" : [ny_graph_data.OBJECTID]},\n",
    "                         {\"title\": \"Fires by Year: New York\"}\n",
    "                         ]),\n",
    "                \n",
    "                dict(\n",
    "                    label= 'MS',\n",
    "                    method=\"update\",\n",
    "                    args=[{\"y\" : [ms_graph_data.OBJECTID]},\n",
    "                         {\"title\": \"Fires by Year: Mississippi\"}\n",
    "                         ]),\n",
    "                \n",
    "                dict(\n",
    "                    label='AZ',\n",
    "                    method=\"update\",\n",
    "                    args=[{\"y\" : [az_graph_data.OBJECTID]},\n",
    "                         {\"title\": \"Fires by Year: Arizona\"}\n",
    "                         ]),\n",
    "                \n",
    "                dict(\n",
    "                    label= 'AL',\n",
    "                    method=\"update\",\n",
    "                    args=[{\"y\" : [al_graph_data.OBJECTID]},\n",
    "                         {\"title\": \"Fires by Year: Alabama\"}\n",
    "                         ]),\n",
    "                \n",
    "                \n",
    "                \n",
    "                ]\n",
    "            ))                    \n",
    "        ]\n",
    "    )\n",
    "\n"
   ]
  },
  {
   "cell_type": "code",
   "execution_count": 11,
   "metadata": {},
   "outputs": [
    {
     "data": {
      "application/vnd.plotly.v1+json": {
       "config": {
        "plotlyServerURL": "https://plot.ly"
       },
       "data": [
        {
         "alignmentgroup": "True",
         "hovertemplate": "variable=OBJECTID<br>Cause of Fire=%{x}<br>Number of Fires=%{y}<extra></extra>",
         "legendgroup": "OBJECTID",
         "marker": {
          "color": "#636efa",
          "pattern": {
           "shape": ""
          }
         },
         "name": "OBJECTID",
         "offsetgroup": "OBJECTID",
         "orientation": "v",
         "showlegend": true,
         "textposition": "auto",
         "type": "bar",
         "x": [
          "Arson",
          "Children",
          "Debris Burning",
          "Electricity supply",
          "Equipment use",
          "Firearms",
          "Fireworks",
          "Natural",
          "Other causes",
          "Railroad",
          "Recreation",
          "Smoking",
          "Undetermined"
         ],
         "xaxis": "x",
         "y": [
          320814,
          66280,
          535851,
          32652,
          190319,
          2734,
          18599,
          327319,
          10517,
          37292,
          99473,
          63783,
          597933
         ],
         "yaxis": "y"
        }
       ],
       "layout": {
        "barmode": "relative",
        "legend": {
         "title": {
          "text": "variable"
         },
         "tracegroupgap": 0
        },
        "showlegend": false,
        "template": {
         "data": {
          "bar": [
           {
            "error_x": {
             "color": "#2a3f5f"
            },
            "error_y": {
             "color": "#2a3f5f"
            },
            "marker": {
             "line": {
              "color": "#E5ECF6",
              "width": 0.5
             },
             "pattern": {
              "fillmode": "overlay",
              "size": 10,
              "solidity": 0.2
             }
            },
            "type": "bar"
           }
          ],
          "barpolar": [
           {
            "marker": {
             "line": {
              "color": "#E5ECF6",
              "width": 0.5
             },
             "pattern": {
              "fillmode": "overlay",
              "size": 10,
              "solidity": 0.2
             }
            },
            "type": "barpolar"
           }
          ],
          "carpet": [
           {
            "aaxis": {
             "endlinecolor": "#2a3f5f",
             "gridcolor": "white",
             "linecolor": "white",
             "minorgridcolor": "white",
             "startlinecolor": "#2a3f5f"
            },
            "baxis": {
             "endlinecolor": "#2a3f5f",
             "gridcolor": "white",
             "linecolor": "white",
             "minorgridcolor": "white",
             "startlinecolor": "#2a3f5f"
            },
            "type": "carpet"
           }
          ],
          "choropleth": [
           {
            "colorbar": {
             "outlinewidth": 0,
             "ticks": ""
            },
            "type": "choropleth"
           }
          ],
          "contour": [
           {
            "colorbar": {
             "outlinewidth": 0,
             "ticks": ""
            },
            "colorscale": [
             [
              0,
              "#0d0887"
             ],
             [
              0.1111111111111111,
              "#46039f"
             ],
             [
              0.2222222222222222,
              "#7201a8"
             ],
             [
              0.3333333333333333,
              "#9c179e"
             ],
             [
              0.4444444444444444,
              "#bd3786"
             ],
             [
              0.5555555555555556,
              "#d8576b"
             ],
             [
              0.6666666666666666,
              "#ed7953"
             ],
             [
              0.7777777777777778,
              "#fb9f3a"
             ],
             [
              0.8888888888888888,
              "#fdca26"
             ],
             [
              1,
              "#f0f921"
             ]
            ],
            "type": "contour"
           }
          ],
          "contourcarpet": [
           {
            "colorbar": {
             "outlinewidth": 0,
             "ticks": ""
            },
            "type": "contourcarpet"
           }
          ],
          "heatmap": [
           {
            "colorbar": {
             "outlinewidth": 0,
             "ticks": ""
            },
            "colorscale": [
             [
              0,
              "#0d0887"
             ],
             [
              0.1111111111111111,
              "#46039f"
             ],
             [
              0.2222222222222222,
              "#7201a8"
             ],
             [
              0.3333333333333333,
              "#9c179e"
             ],
             [
              0.4444444444444444,
              "#bd3786"
             ],
             [
              0.5555555555555556,
              "#d8576b"
             ],
             [
              0.6666666666666666,
              "#ed7953"
             ],
             [
              0.7777777777777778,
              "#fb9f3a"
             ],
             [
              0.8888888888888888,
              "#fdca26"
             ],
             [
              1,
              "#f0f921"
             ]
            ],
            "type": "heatmap"
           }
          ],
          "heatmapgl": [
           {
            "colorbar": {
             "outlinewidth": 0,
             "ticks": ""
            },
            "colorscale": [
             [
              0,
              "#0d0887"
             ],
             [
              0.1111111111111111,
              "#46039f"
             ],
             [
              0.2222222222222222,
              "#7201a8"
             ],
             [
              0.3333333333333333,
              "#9c179e"
             ],
             [
              0.4444444444444444,
              "#bd3786"
             ],
             [
              0.5555555555555556,
              "#d8576b"
             ],
             [
              0.6666666666666666,
              "#ed7953"
             ],
             [
              0.7777777777777778,
              "#fb9f3a"
             ],
             [
              0.8888888888888888,
              "#fdca26"
             ],
             [
              1,
              "#f0f921"
             ]
            ],
            "type": "heatmapgl"
           }
          ],
          "histogram": [
           {
            "marker": {
             "pattern": {
              "fillmode": "overlay",
              "size": 10,
              "solidity": 0.2
             }
            },
            "type": "histogram"
           }
          ],
          "histogram2d": [
           {
            "colorbar": {
             "outlinewidth": 0,
             "ticks": ""
            },
            "colorscale": [
             [
              0,
              "#0d0887"
             ],
             [
              0.1111111111111111,
              "#46039f"
             ],
             [
              0.2222222222222222,
              "#7201a8"
             ],
             [
              0.3333333333333333,
              "#9c179e"
             ],
             [
              0.4444444444444444,
              "#bd3786"
             ],
             [
              0.5555555555555556,
              "#d8576b"
             ],
             [
              0.6666666666666666,
              "#ed7953"
             ],
             [
              0.7777777777777778,
              "#fb9f3a"
             ],
             [
              0.8888888888888888,
              "#fdca26"
             ],
             [
              1,
              "#f0f921"
             ]
            ],
            "type": "histogram2d"
           }
          ],
          "histogram2dcontour": [
           {
            "colorbar": {
             "outlinewidth": 0,
             "ticks": ""
            },
            "colorscale": [
             [
              0,
              "#0d0887"
             ],
             [
              0.1111111111111111,
              "#46039f"
             ],
             [
              0.2222222222222222,
              "#7201a8"
             ],
             [
              0.3333333333333333,
              "#9c179e"
             ],
             [
              0.4444444444444444,
              "#bd3786"
             ],
             [
              0.5555555555555556,
              "#d8576b"
             ],
             [
              0.6666666666666666,
              "#ed7953"
             ],
             [
              0.7777777777777778,
              "#fb9f3a"
             ],
             [
              0.8888888888888888,
              "#fdca26"
             ],
             [
              1,
              "#f0f921"
             ]
            ],
            "type": "histogram2dcontour"
           }
          ],
          "mesh3d": [
           {
            "colorbar": {
             "outlinewidth": 0,
             "ticks": ""
            },
            "type": "mesh3d"
           }
          ],
          "parcoords": [
           {
            "line": {
             "colorbar": {
              "outlinewidth": 0,
              "ticks": ""
             }
            },
            "type": "parcoords"
           }
          ],
          "pie": [
           {
            "automargin": true,
            "type": "pie"
           }
          ],
          "scatter": [
           {
            "fillpattern": {
             "fillmode": "overlay",
             "size": 10,
             "solidity": 0.2
            },
            "type": "scatter"
           }
          ],
          "scatter3d": [
           {
            "line": {
             "colorbar": {
              "outlinewidth": 0,
              "ticks": ""
             }
            },
            "marker": {
             "colorbar": {
              "outlinewidth": 0,
              "ticks": ""
             }
            },
            "type": "scatter3d"
           }
          ],
          "scattercarpet": [
           {
            "marker": {
             "colorbar": {
              "outlinewidth": 0,
              "ticks": ""
             }
            },
            "type": "scattercarpet"
           }
          ],
          "scattergeo": [
           {
            "marker": {
             "colorbar": {
              "outlinewidth": 0,
              "ticks": ""
             }
            },
            "type": "scattergeo"
           }
          ],
          "scattergl": [
           {
            "marker": {
             "colorbar": {
              "outlinewidth": 0,
              "ticks": ""
             }
            },
            "type": "scattergl"
           }
          ],
          "scattermapbox": [
           {
            "marker": {
             "colorbar": {
              "outlinewidth": 0,
              "ticks": ""
             }
            },
            "type": "scattermapbox"
           }
          ],
          "scatterpolar": [
           {
            "marker": {
             "colorbar": {
              "outlinewidth": 0,
              "ticks": ""
             }
            },
            "type": "scatterpolar"
           }
          ],
          "scatterpolargl": [
           {
            "marker": {
             "colorbar": {
              "outlinewidth": 0,
              "ticks": ""
             }
            },
            "type": "scatterpolargl"
           }
          ],
          "scatterternary": [
           {
            "marker": {
             "colorbar": {
              "outlinewidth": 0,
              "ticks": ""
             }
            },
            "type": "scatterternary"
           }
          ],
          "surface": [
           {
            "colorbar": {
             "outlinewidth": 0,
             "ticks": ""
            },
            "colorscale": [
             [
              0,
              "#0d0887"
             ],
             [
              0.1111111111111111,
              "#46039f"
             ],
             [
              0.2222222222222222,
              "#7201a8"
             ],
             [
              0.3333333333333333,
              "#9c179e"
             ],
             [
              0.4444444444444444,
              "#bd3786"
             ],
             [
              0.5555555555555556,
              "#d8576b"
             ],
             [
              0.6666666666666666,
              "#ed7953"
             ],
             [
              0.7777777777777778,
              "#fb9f3a"
             ],
             [
              0.8888888888888888,
              "#fdca26"
             ],
             [
              1,
              "#f0f921"
             ]
            ],
            "type": "surface"
           }
          ],
          "table": [
           {
            "cells": {
             "fill": {
              "color": "#EBF0F8"
             },
             "line": {
              "color": "white"
             }
            },
            "header": {
             "fill": {
              "color": "#C8D4E3"
             },
             "line": {
              "color": "white"
             }
            },
            "type": "table"
           }
          ]
         },
         "layout": {
          "annotationdefaults": {
           "arrowcolor": "#2a3f5f",
           "arrowhead": 0,
           "arrowwidth": 1
          },
          "autotypenumbers": "strict",
          "coloraxis": {
           "colorbar": {
            "outlinewidth": 0,
            "ticks": ""
           }
          },
          "colorscale": {
           "diverging": [
            [
             0,
             "#8e0152"
            ],
            [
             0.1,
             "#c51b7d"
            ],
            [
             0.2,
             "#de77ae"
            ],
            [
             0.3,
             "#f1b6da"
            ],
            [
             0.4,
             "#fde0ef"
            ],
            [
             0.5,
             "#f7f7f7"
            ],
            [
             0.6,
             "#e6f5d0"
            ],
            [
             0.7,
             "#b8e186"
            ],
            [
             0.8,
             "#7fbc41"
            ],
            [
             0.9,
             "#4d9221"
            ],
            [
             1,
             "#276419"
            ]
           ],
           "sequential": [
            [
             0,
             "#0d0887"
            ],
            [
             0.1111111111111111,
             "#46039f"
            ],
            [
             0.2222222222222222,
             "#7201a8"
            ],
            [
             0.3333333333333333,
             "#9c179e"
            ],
            [
             0.4444444444444444,
             "#bd3786"
            ],
            [
             0.5555555555555556,
             "#d8576b"
            ],
            [
             0.6666666666666666,
             "#ed7953"
            ],
            [
             0.7777777777777778,
             "#fb9f3a"
            ],
            [
             0.8888888888888888,
             "#fdca26"
            ],
            [
             1,
             "#f0f921"
            ]
           ],
           "sequentialminus": [
            [
             0,
             "#0d0887"
            ],
            [
             0.1111111111111111,
             "#46039f"
            ],
            [
             0.2222222222222222,
             "#7201a8"
            ],
            [
             0.3333333333333333,
             "#9c179e"
            ],
            [
             0.4444444444444444,
             "#bd3786"
            ],
            [
             0.5555555555555556,
             "#d8576b"
            ],
            [
             0.6666666666666666,
             "#ed7953"
            ],
            [
             0.7777777777777778,
             "#fb9f3a"
            ],
            [
             0.8888888888888888,
             "#fdca26"
            ],
            [
             1,
             "#f0f921"
            ]
           ]
          },
          "colorway": [
           "#636efa",
           "#EF553B",
           "#00cc96",
           "#ab63fa",
           "#FFA15A",
           "#19d3f3",
           "#FF6692",
           "#B6E880",
           "#FF97FF",
           "#FECB52"
          ],
          "font": {
           "color": "#2a3f5f"
          },
          "geo": {
           "bgcolor": "white",
           "lakecolor": "white",
           "landcolor": "#E5ECF6",
           "showlakes": true,
           "showland": true,
           "subunitcolor": "white"
          },
          "hoverlabel": {
           "align": "left"
          },
          "hovermode": "closest",
          "mapbox": {
           "style": "light"
          },
          "paper_bgcolor": "white",
          "plot_bgcolor": "#E5ECF6",
          "polar": {
           "angularaxis": {
            "gridcolor": "white",
            "linecolor": "white",
            "ticks": ""
           },
           "bgcolor": "#E5ECF6",
           "radialaxis": {
            "gridcolor": "white",
            "linecolor": "white",
            "ticks": ""
           }
          },
          "scene": {
           "xaxis": {
            "backgroundcolor": "#E5ECF6",
            "gridcolor": "white",
            "gridwidth": 2,
            "linecolor": "white",
            "showbackground": true,
            "ticks": "",
            "zerolinecolor": "white"
           },
           "yaxis": {
            "backgroundcolor": "#E5ECF6",
            "gridcolor": "white",
            "gridwidth": 2,
            "linecolor": "white",
            "showbackground": true,
            "ticks": "",
            "zerolinecolor": "white"
           },
           "zaxis": {
            "backgroundcolor": "#E5ECF6",
            "gridcolor": "white",
            "gridwidth": 2,
            "linecolor": "white",
            "showbackground": true,
            "ticks": "",
            "zerolinecolor": "white"
           }
          },
          "shapedefaults": {
           "line": {
            "color": "#2a3f5f"
           }
          },
          "ternary": {
           "aaxis": {
            "gridcolor": "white",
            "linecolor": "white",
            "ticks": ""
           },
           "baxis": {
            "gridcolor": "white",
            "linecolor": "white",
            "ticks": ""
           },
           "bgcolor": "#E5ECF6",
           "caxis": {
            "gridcolor": "white",
            "linecolor": "white",
            "ticks": ""
           }
          },
          "title": {
           "x": 0.05
          },
          "xaxis": {
           "automargin": true,
           "gridcolor": "white",
           "linecolor": "white",
           "ticks": "",
           "title": {
            "standoff": 15
           },
           "zerolinecolor": "white",
           "zerolinewidth": 2
          },
          "yaxis": {
           "automargin": true,
           "gridcolor": "white",
           "linecolor": "white",
           "ticks": "",
           "title": {
            "standoff": 15
           },
           "zerolinecolor": "white",
           "zerolinewidth": 2
          }
         }
        },
        "title": {
         "text": "Fires Causes by Year: United States"
        },
        "updatemenus": [
         {
          "buttons": [
           {
            "args": [
             {
              "y": [
               [
                320814,
                66280,
                535851,
                32652,
                190319,
                2734,
                18599,
                327319,
                10517,
                37292,
                99473,
                63783,
                597933
               ]
              ]
             },
             {
              "title": "Fires Causes by Year: United States"
             }
            ],
            "label": "United States",
            "method": "update"
           },
           {
            "args": [
             {
              "y": [
               [
                24412,
                9316,
                20861,
                3677,
                45660,
                275,
                645,
                30290,
                784,
                773,
                11453,
                8472,
                95263
               ]
              ]
             },
             {
              "title": "Fires Causes by Year: California"
             }
            ],
            "label": "CA",
            "method": "update"
           },
           {
            "args": [
             {
              "y": [
               [
                31975,
                6561,
                100916,
                52,
                13583,
                10,
                9609,
                16,
                3225,
                4326,
                5134,
                9633
               ]
              ]
             },
             {
              "title": "Fires Causes by Year: Georgia"
             }
            ],
            "label": "GA",
            "method": "update"
           },
           {
            "args": [
             {
              "y": [
               [
                9489,
                1701,
                70767,
                7173,
                20549,
                7,
                312,
                8505,
                119,
                1300,
                2161,
                4360,
                53644
               ]
              ]
             },
             {
              "title": "Fires Causes by Year: Texas"
             }
            ],
            "label": "TX",
            "method": "update"
           },
           {
            "args": [
             {
              "y": [
               [
                20414,
                8513,
                49367,
                1613,
                10213,
                5,
                436,
                2413,
                386,
                1123,
                877,
                6622,
                28183
               ]
              ]
             },
             {
              "title": "Fires Causes by Year: North Carolina"
             }
            ],
            "label": "NC",
            "method": "update"
           },
           {
            "args": [
             {
              "y": [
               [
                9145,
                4681,
                15281,
                1974,
                14087,
                5,
                366,
                24286,
                419,
                15248,
                2498,
                1442,
                13977
               ]
              ]
             },
             {
              "title": "Fires Causes by Year: Florida"
             }
            ],
            "label": "FL",
            "method": "update"
           },
           {
            "args": [
             {
              "y": [
               [
                15428,
                3274,
                28538,
                573,
                4398,
                4,
                145,
                2206,
                318,
                558,
                543,
                1660,
                30407
               ]
              ]
             },
             {
              "title": "Fires Causes by Year: South Carolina"
             }
            ],
            "label": "SC",
            "method": "update"
           },
           {
            "args": [
             {
              "y": [
               [
                12881,
                1603,
                8699,
                1252,
                3764,
                111,
                7379,
                171,
                247,
                2648,
                6566,
                53821
               ]
              ]
             },
             {
              "title": "Fires Causes by Year: New York"
             }
            ],
            "label": "NY",
            "method": "update"
           },
           {
            "args": [
             {
              "y": [
               [
                34647,
                415,
                24243,
                69,
                1435,
                17,
                38,
                598,
                152,
                368,
                1661,
                1086,
                19977
               ]
              ]
             },
             {
              "title": "Fires Causes by Year: Mississippi"
             }
            ],
            "label": "MS",
            "method": "update"
           },
           {
            "args": [
             {
              "y": [
               [
                6307,
                2495,
                5774,
                396,
                3907,
                90,
                411,
                32277,
                159,
                409,
                7410,
                2284,
                43037
               ]
              ]
             },
             {
              "title": "Fires Causes by Year: Arizona"
             }
            ],
            "label": "AZ",
            "method": "update"
           },
           {
            "args": [
             {
              "y": [
               [
                23629,
                1076,
                24673,
                283,
                3903,
                60,
                1429,
                157,
                1171,
                4029,
                1463,
                12960
               ]
              ]
             },
             {
              "title": "Fires Causes by Year: Alabama"
             }
            ],
            "label": "AL",
            "method": "update"
           }
          ],
          "direction": "down",
          "showactive": true,
          "type": "dropdown",
          "x": 0.2,
          "y": 1.15
         }
        ],
        "xaxis": {
         "anchor": "y",
         "categoryorder": "total descending",
         "domain": [
          0,
          1
         ],
         "title": {
          "text": "Cause of Fire"
         }
        },
        "yaxis": {
         "anchor": "x",
         "domain": [
          0,
          1
         ],
         "title": {
          "text": "Number of Fires"
         }
        }
       }
      }
     },
     "metadata": {},
     "output_type": "display_data"
    }
   ],
   "source": [
    "# Bar Graph of fire causes per state and nationally for the ten states with the largest numbers of fires\n",
    "\n",
    "# Selecting only columns needed from imported data\n",
    "fire_cause_df = df[['OBJECTID','NWCG_GENERAL_CAUSE','STATE']]\n",
    "\n",
    "# Setting up variables for each state, with imported data filtered by state, group by fire cause and counted \n",
    "national_cause = fire_cause_df.groupby('NWCG_GENERAL_CAUSE').count().drop('STATE', axis=1)\n",
    "ca_cause = fire_cause_df[(fire_cause_df['STATE']== 'CA')].groupby('NWCG_GENERAL_CAUSE').count().drop('STATE', axis=1)\n",
    "ga_cause = fire_cause_df[(fire_cause_df['STATE']== 'GA')].groupby('NWCG_GENERAL_CAUSE').count().drop('STATE', axis=1)\n",
    "tx_cause = fire_cause_df[(fire_cause_df['STATE']== 'TX')].groupby('NWCG_GENERAL_CAUSE').count().drop('STATE', axis=1)\n",
    "nc_cause = fire_cause_df[(fire_cause_df['STATE']== 'NC')].groupby('NWCG_GENERAL_CAUSE').count().drop('STATE', axis=1)\n",
    "fl_cause = fire_cause_df[(fire_cause_df['STATE']== 'FL')].groupby('NWCG_GENERAL_CAUSE').count().drop('STATE', axis=1)\n",
    "sc_cause = fire_cause_df[(fire_cause_df['STATE']== 'SC')].groupby('NWCG_GENERAL_CAUSE').count().drop('STATE', axis=1)\n",
    "ny_cause = fire_cause_df[(fire_cause_df['STATE']== 'NY')].groupby('NWCG_GENERAL_CAUSE').count().drop('STATE', axis=1)\n",
    "ms_cause = fire_cause_df[(fire_cause_df['STATE']== 'MS')].groupby('NWCG_GENERAL_CAUSE').count().drop('STATE', axis=1)\n",
    "az_cause = fire_cause_df[(fire_cause_df['STATE']== 'AZ')].groupby('NWCG_GENERAL_CAUSE').count().drop('STATE', axis=1)\n",
    "al_cause = fire_cause_df[(fire_cause_df['STATE']== 'AL')].groupby('NWCG_GENERAL_CAUSE').count().drop('STATE', axis=1)\n",
    "\n",
    "# Set up initial bar graph showing the fire causes per state or nationally\n",
    "fig_bar = px.bar(national_cause, labels={\n",
    "                     \"NWCG_GENERAL_CAUSE\": \"Cause of Fire\",\n",
    "                     \"value\": \"Number of Fires\"},\n",
    "                title='Fires Causes by Year: United States'\n",
    "                )\n",
    "\n",
    "# Changing graph layout to include buttons which cause different data to be displayed in the graph\n",
    "fig_bar.update_layout(\n",
    "    updatemenus=[\n",
    "        # displays buttons on graph\n",
    "        dict(type=\"dropdown\",\n",
    "            direction=\"down\",\n",
    "            x=0.2,\n",
    "            y=1.15,\n",
    "            showactive=True,\n",
    "            # List of buttons to be added. One dictionary for each button\n",
    "            buttons=list(\n",
    "                [\n",
    "                dict(\n",
    "                    # Text on button\n",
    "                    label= 'United States',\n",
    "                    method=\"update\",\n",
    "                    # Change to make when button is selected\n",
    "                    args=[{\"y\" : [national_cause.OBJECTID]},\n",
    "                         {\"title\": \"Fires Causes by Year: United States\"}\n",
    "                         ]),\n",
    "                \n",
    "                dict(\n",
    "                    label= 'CA',\n",
    "                    method=\"update\",\n",
    "                    args=[{\"y\" : [ca_cause.OBJECTID]},\n",
    "                         {\"title\": \"Fires Causes by Year: California\"}\n",
    "                         ]),\n",
    "                \n",
    "                dict(\n",
    "                    label= 'GA',\n",
    "                    method=\"update\",\n",
    "                    args=[{\"y\" : [ga_cause.OBJECTID]},\n",
    "                         {\"title\": \"Fires Causes by Year: Georgia\"}\n",
    "                         ]),\n",
    "                \n",
    "                dict(\n",
    "                    label= 'TX',\n",
    "                    method=\"update\",\n",
    "                    args=[{\"y\" : [tx_cause.OBJECTID]},\n",
    "                         {\"title\": \"Fires Causes by Year: Texas\"}\n",
    "                         ]),\n",
    "                \n",
    "                dict(\n",
    "                    label= 'NC',\n",
    "                    method=\"update\",\n",
    "                    args=[{\"y\" : [nc_cause.OBJECTID]},\n",
    "                         {\"title\": \"Fires Causes by Year: North Carolina\"}\n",
    "                         ]),\n",
    "                \n",
    "                dict(\n",
    "                    label= 'FL',\n",
    "                    method=\"update\",\n",
    "                    args=[{\"y\" : [fl_cause.OBJECTID]},\n",
    "                         {\"title\": \"Fires Causes by Year: Florida\"}\n",
    "                         ]),\n",
    "                \n",
    "                dict(\n",
    "                    label= 'SC',\n",
    "                    method=\"update\",\n",
    "                    args=[{\"y\" : [sc_cause.OBJECTID]},\n",
    "                         {\"title\": \"Fires Causes by Year: South Carolina\"}\n",
    "                         ]),\n",
    "                dict(\n",
    "                    label= 'NY',\n",
    "                    method=\"update\",\n",
    "                    args=[{\"y\" : [ny_cause.OBJECTID]},\n",
    "                         {\"title\": \"Fires Causes by Year: New York\"}\n",
    "                         ]),\n",
    "                \n",
    "                dict(\n",
    "                    label= 'MS',\n",
    "                    method=\"update\",\n",
    "                    args=[{\"y\" : [ms_cause.OBJECTID]},\n",
    "                         {\"title\": \"Fires Causes by Year: Mississippi\"}\n",
    "                         ]),\n",
    "                \n",
    "                dict(\n",
    "                    label= 'AZ',\n",
    "                    method=\"update\",\n",
    "                    args=[{\"y\" : [az_cause.OBJECTID]},\n",
    "                         {\"title\": \"Fires Causes by Year: Arizona\"}\n",
    "                         ]),\n",
    "                \n",
    "                dict(\n",
    "                    label= 'AL',\n",
    "                    method=\"update\",\n",
    "                    args=[{\"y\" : [al_cause.OBJECTID]},\n",
    "                         {\"title\": \"Fires Causes by Year: Alabama\"}\n",
    "                         ]),\n",
    "                                ]\n",
    "            ))                    \n",
    "        ]\n",
    "    )                     \n",
    "\n",
    "# Remove default legend, sort bars in descending order\n",
    "fig_bar.update_layout(showlegend=False, xaxis={'categoryorder':'total descending'})"
   ]
  },
  {
   "cell_type": "markdown",
   "metadata": {},
   "source": [
    "<h2>Exporting Graphs using Dash</h2>"
   ]
  },
  {
   "cell_type": "code",
   "execution_count": 12,
   "metadata": {},
   "outputs": [
    {
     "data": {
      "text/html": [
       "\n",
       "        <iframe\n",
       "            width=\"100%\"\n",
       "            height=\"650\"\n",
       "            src=\"http://127.0.0.1:8050/\"\n",
       "            frameborder=\"0\"\n",
       "            allowfullscreen\n",
       "            \n",
       "        ></iframe>\n",
       "        "
      ],
      "text/plain": [
       "<IPython.lib.display.IFrame at 0x1890468b520>"
      ]
     },
     "metadata": {},
     "output_type": "display_data"
    }
   ],
   "source": [
    "## Uses dash to export both graphs as a single html file\n",
    "\n",
    "app = Dash(__name__)\n",
    "\n",
    "buffer = io.StringIO()\n",
    "\n",
    "fig_line.write_html(buffer)\n",
    "fig_bar.write_html(buffer)\n",
    "\n",
    "html_bytes = buffer.getvalue().encode()\n",
    "encoded = b64encode(html_bytes).decode()\n",
    "\n",
    "app.layout = html.Div([\n",
    "    html.H2('Wildfire Dashboard'),\n",
    "    dcc.Graph(id=\"graph1\", figure=fig_line),\n",
    "    dcc.Graph(id=\"graph2\", figure=fig_bar),\n",
    "    html.A(\n",
    "        html.Button(\"Download as HTML\"), \n",
    "        id=\"download\",\n",
    "        href=\"data:text/html;base64,\" + encoded,\n",
    "        download=\"index.html\"\n",
    "    )\n",
    "])\n",
    "\n",
    "app.run_server(debug=True)"
   ]
  },
  {
   "cell_type": "code",
   "execution_count": 7,
   "metadata": {},
   "outputs": [],
   "source": [
    "## DON\"T FORGET TO ADD THIS TO INDEX>HTML BEFORE COMMITING TO GITHUB\n",
    "## goes between <body> and <div>\n",
    "## <h1><center>Wildfire Dashboard</center></h1>"
   ]
  },
  {
   "cell_type": "markdown",
   "metadata": {},
   "source": [
    "<h2>Final dashboard is deployed to:</h2>\n",
    "\n",
    "<h3>https://jlawrence16.github.io/wildfire_project/</h3>"
   ]
  }
 ],
 "metadata": {
  "kernelspec": {
   "display_name": "dev",
   "language": "python",
   "name": "python3"
  },
  "language_info": {
   "codemirror_mode": {
    "name": "ipython",
    "version": 3
   },
   "file_extension": ".py",
   "mimetype": "text/x-python",
   "name": "python",
   "nbconvert_exporter": "python",
   "pygments_lexer": "ipython3",
   "version": "3.10.13"
  }
 },
 "nbformat": 4,
 "nbformat_minor": 2
}
